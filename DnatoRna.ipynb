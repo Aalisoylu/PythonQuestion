{
  "nbformat": 4,
  "nbformat_minor": 0,
  "metadata": {
    "colab": {
      "name": "Untitled17.ipynb",
      "provenance": [],
      "collapsed_sections": [],
      "authorship_tag": "ABX9TyOlgPbVo2c+pPAEKZLKAVT/",
      "include_colab_link": true
    },
    "kernelspec": {
      "name": "python3",
      "display_name": "Python 3"
    },
    "language_info": {
      "name": "python"
    }
  },
  "cells": [
    {
      "cell_type": "markdown",
      "metadata": {
        "id": "view-in-github",
        "colab_type": "text"
      },
      "source": [
        "<a href=\"https://colab.research.google.com/github/Aalisoylu/PythonQuestion/blob/main/DnatoRna.ipynb\" target=\"_parent\"><img src=\"https://colab.research.google.com/assets/colab-badge.svg\" alt=\"Open In Colab\"/></a>"
      ]
    },
    {
      "cell_type": "code",
      "execution_count": null,
      "metadata": {
        "colab": {
          "base_uri": "https://localhost:8080/"
        },
        "id": "Z4-A0BX-oMtO",
        "outputId": "7a078f64-c724-4949-8321-de653af361f5"
      },
      "outputs": [
        {
          "output_type": "stream",
          "name": "stdout",
          "text": [
            "16011131\n",
            "MUHAMMED ALI SOYLU\n",
            "\n",
            "DNA:  AACCTGCGGAAGGATCATTACCGAGTGCGGGTCCTTTGGGCCCAACCTCCCATCCGTGTCTATTGTACCCTGTTGCTTCGGCGGGCCCGCCGCTTGTCGGCCGCCGGGGGGGCGCCTCTGCCCCCCGGGCCCGTGCCCGCCGGAGACCCCAACACGAACACTGTCTGAAAGCGTGCAGTCTGAGTTGATTGAATGCAATCAGTTAAAACTTTCAACAATGGATCTCTTGGTTCCGGCATT\n",
            "RNA:  UUGGACGCCUUCCUAGUAAUGGCUCACGCCCAGGAAACCCGGGUUGGAGGGUAGGCACAGAUAACAUGGGACAACGAAGCCGCCCGGGCGGCGAACAGCCGGCGGCCCCCCCGCGGAGACGGGGGGCCCGGGCACGGGCGGCCUCUGGGGUUGUGCUUGUGACAGACUUUCGCACGUCAGACUCAACUAACUUACGUUAGUCAAUUUUGAAAGUUGUUACCUAGAGAACCAAGGCCGUAA\n",
            "CODONS: ['UUG', 'GAC', 'GCC', 'UUC', 'CUA', 'GUA', 'AUG', 'GCU', 'CAC', 'GCC', 'CAG', 'GAA', 'ACC', 'CGG', 'GUU', 'GGA', 'GGG', 'UAG', 'GCA', 'CAG', 'AUA', 'ACA', 'UGG', 'GAC', 'AAC', 'GAA', 'GCC', 'GCC', 'CGG', 'GCG', 'GCG', 'AAC', 'AGC', 'CGG', 'CGG', 'CCC', 'CCC', 'CGC', 'GGA', 'GAC', 'GGG', 'GGG', 'CCC', 'GGG', 'CAC', 'GGG', 'CGG', 'CCU', 'CUG', 'GGG', 'UUG', 'UGC', 'UUG', 'UGA', 'CAG', 'ACU', 'UUC', 'GCA', 'CGU', 'CAG', 'ACU', 'CAA', 'CUA', 'ACU', 'UAC', 'GUU', 'AGU', 'CAA', 'UUU', 'UGA', 'AAG', 'UUG', 'UUA', 'CCU', 'AGA', 'GAA', 'CCA', 'AGG', 'CCG', 'UAA']\n",
            "AMINOACID: ['L', 'D', 'A', 'F', 'L', 'V', 'M', 'A', 'H', 'A', 'Q', 'E', 'T', 'V', 'G', 'G', 'A', 'Q', 'I', 'T', 'W', 'D', 'N', 'E', 'A', 'A', 'A', 'A', 'N', 'S', 'P', 'P', 'R', 'G', 'D', 'G', 'G', 'P', 'G', 'H', 'G', 'P', 'L', 'G', 'L', 'C', 'L', 'Q', 'T', 'F', 'A', 'R', 'Q', 'T', 'Q', 'L', 'T', 'Y', 'V', 'S', 'Q', 'F', 'K', 'L', 'L', 'P', 'R', 'E', 'R']\n"
          ]
        }
      ],
      "source": [
        "import sys\n",
        "import textwrap\n",
        "print('16011131')\n",
        "print('MUHAMMED ALI SOYLU\\n')\n",
        "\n",
        "\n",
        "filename= \"/content/DNA.txt\"\n",
        "f = open(filename, \"r\")\n",
        "\n",
        "dna = f.read()\n",
        "print('DNA: ', dna)\n",
        "\n",
        "rna = ''\n",
        "\n",
        "try:\n",
        "  for c in dna:\n",
        "      if c == 'A' or c == 'a':\n",
        "          rna += 'U'\n",
        "      elif c == 'T' or c == 't':\n",
        "          rna += 'A'\n",
        "      elif c == 'C' or c == 'c':\n",
        "          rna += 'G'\n",
        "      elif c == 'G' or c == 'g':\n",
        "          rna += 'C'\n",
        "except Exception:\n",
        "          print('Error: Input Dna has incorrect base')\n",
        "          sys.exit(-1)\n",
        "\n",
        "print('RNA: ', rna)\n",
        "\n",
        "codons = textwrap.wrap(rna, 3)\n",
        "print('CODONS:', codons)\n",
        "\n",
        "aminoacid = []\n",
        "for codon in codons:\n",
        "    if codon in ['UUU', 'UUC']:\n",
        "        aminoacid.append('F')\n",
        "    elif codon in ['UUA', 'UUG', 'CUU', 'CUC', 'CUA', 'CUG']:\n",
        "        aminoacid.append('L')\n",
        "    elif codon in ['UCU', 'UCC', 'UCA', 'UCG', 'AGU', 'AGC']:\n",
        "        aminoacid.append('S')\n",
        "    elif codon in ['UAU', 'UAC']:\n",
        "        aminoacid.append('Y')\n",
        "    elif codon in ['UGU', 'UGC']:\n",
        "        aminoacid.append('C')\n",
        "    elif codon in ['UGG']:\n",
        "        aminoacid.append('W')\n",
        "    elif codon in ['CCU', 'CCC', 'CCA' 'CCG']:\n",
        "        aminoacid.append('P')\n",
        "    elif codon in ['CAU', 'CAC']:\n",
        "        aminoacid.append('H')\n",
        "    elif codon in ['CAA', 'CAG']:\n",
        "        aminoacid.append('Q')\n",
        "    elif codon in ['CGU', 'CGC', 'CGA', 'AGA', 'AGG']:\n",
        "        aminoacid.append('R')\n",
        "    elif codon in ['AUU', 'AUC', 'AUA']:\n",
        "        aminoacid.append('I')\n",
        "    elif codon in ['ACU', 'ACC', 'ACA', 'ACG']:\n",
        "        aminoacid.append('T')\n",
        "    elif codon in ['AAU', 'AAC']:\n",
        "        aminoacid.append('N')\n",
        "    elif codon in ['AAA', 'AAG']:\n",
        "        aminoacid.append('K')\n",
        "    elif codon in ['GUU', 'GUC', 'GUA', 'GUG']:\n",
        "        aminoacid.append('V')\n",
        "    elif codon in ['GCU', 'GCC', 'GCA', 'GCG']:\n",
        "        aminoacid.append('A')\n",
        "    elif codon in ['GAU', 'GAC']:\n",
        "        aminoacid.append('D')\n",
        "    elif codon in ['GAA', 'GAG']:\n",
        "        aminoacid.append('E')\n",
        "    elif codon in ['GGU', 'GGC', 'GGA', 'GGG']:\n",
        "        aminoacid.append('G')\n",
        "    elif codon in ['AUG']:\n",
        "        aminoacid.append('M')\n",
        "    elif codon in ['UAA', 'UAG', 'UGA']:\n",
        "        continue\n",
        "    else:\n",
        "        continue\n",
        "\n",
        "print('AMINOACID:', aminoacid)\n",
        "\n",
        "# input(\"Press any key to close\")"
      ]
    },
    {
      "cell_type": "code",
      "source": [
        "a=['L', 'D', 'A', 'F', 'L', 'V', 'M', 'A', 'H', 'A', 'Q', 'E', 'T', 'V', 'G', 'G', 'A', 'Q', 'I', 'T', 'W', 'D', 'N', 'E', 'A', 'A', 'A', 'A', 'N', 'S', 'P', 'P', 'R', 'G', 'D', 'G', 'G', 'P', 'G', 'H', 'G', 'P', 'L', 'G', 'L', 'C', 'L', 'Q', 'T', 'F', 'A', 'R', 'Q', 'T', 'Q', 'L', 'T', 'Y', 'V', 'S', 'Q', 'F', 'K', 'L', 'L', 'P', 'R', 'E', 'R']\n"
      ],
      "metadata": {
        "id": "K6zWNz8VbXi3"
      },
      "execution_count": null,
      "outputs": []
    },
    {
      "cell_type": "code",
      "source": [
        "print(len(a))"
      ],
      "metadata": {
        "colab": {
          "base_uri": "https://localhost:8080/"
        },
        "id": "WGH71KBrbXr2",
        "outputId": "98935703-c3fc-4f24-8471-804d34915e11"
      },
      "execution_count": null,
      "outputs": [
        {
          "output_type": "stream",
          "name": "stdout",
          "text": [
            "69\n"
          ]
        }
      ]
    }
  ]
}